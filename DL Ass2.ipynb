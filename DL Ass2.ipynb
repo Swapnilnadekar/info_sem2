{
 "cells": [
  {
   "attachments": {},
   "cell_type": "markdown",
   "metadata": {},
   "source": [
    "# ASSIGNMENT - 2"
   ]
  },
  {
   "attachments": {},
   "cell_type": "markdown",
   "metadata": {},
   "source": [
    "### Problem Statement\n",
    "Convolutional neural network (CNN) (Any One from the following)\n",
    "- Use any dataset of plant disease and design a plant disease detection system using CNN.\n",
    "- Use MNIST Fashion Dataset and create a classifier to classify fashion clothing into\n",
    "categories."
   ]
  },
  {
   "cell_type": "code",
   "execution_count": 1,
   "metadata": {},
   "outputs": [],
   "source": [
    "from keras.datasets import fashion_mnist\n",
    "from keras.models import Sequential\n",
    "from keras.layers import Dense,Conv2D,Dropout,MaxPooling2D,Flatten\n",
    "from keras.utils import np_utils"
   ]
  },
  {
   "cell_type": "code",
   "execution_count": 2,
   "metadata": {},
   "outputs": [
    {
     "name": "stdout",
     "output_type": "stream",
     "text": [
      "Downloading data from https://storage.googleapis.com/tensorflow/tf-keras-datasets/train-labels-idx1-ubyte.gz\n",
      "32768/29515 [=================================] - 0s 14us/step\n",
      "40960/29515 [=========================================] - 0s 11us/step\n",
      "Downloading data from https://storage.googleapis.com/tensorflow/tf-keras-datasets/train-images-idx3-ubyte.gz\n",
      "26427392/26421880 [==============================] - 342s 13us/step\n",
      "26435584/26421880 [==============================] - 342s 13us/step\n",
      "Downloading data from https://storage.googleapis.com/tensorflow/tf-keras-datasets/t10k-labels-idx1-ubyte.gz\n",
      "16384/5148 [===============================================================================================] - 0s 0s/step\n",
      "Downloading data from https://storage.googleapis.com/tensorflow/tf-keras-datasets/t10k-images-idx3-ubyte.gz\n",
      "4423680/4422102 [==============================] - 102s 23us/step\n",
      "4431872/4422102 [==============================] - 102s 23us/step\n"
     ]
    }
   ],
   "source": [
    "(x_train, y_train), (x_test, y_test) = fashion_mnist.load_data()"
   ]
  },
  {
   "cell_type": "code",
   "execution_count": 3,
   "metadata": {},
   "outputs": [],
   "source": [
    "trainX = x_train.reshape((x_train.shape[0], 28, 28, 1))\n",
    "testX = x_test.reshape((x_test.shape[0], 28, 28, 1))\n",
    "trainX = trainX/255\n",
    "testX = testX/255"
   ]
  },
  {
   "cell_type": "code",
   "execution_count": 4,
   "metadata": {},
   "outputs": [
    {
     "data": {
      "text/plain": [
       "<matplotlib.image.AxesImage at 0x1de7d362f70>"
      ]
     },
     "execution_count": 4,
     "metadata": {},
     "output_type": "execute_result"
    },
    {
     "data": {
      "image/png": "[encoded data removed]",
      "text/plain": [
       "<Figure size 432x288 with 1 Axes>"
      ]
     },
     "metadata": {
      "needs_background": "light"
     },
     "output_type": "display_data"
    }
   ],
   "source": [
    "import matplotlib.pyplot as plt\n",
    "%matplotlib inline\n",
    "plt.imshow(x_test[2])"
   ]
  },
  {
   "cell_type": "code",
   "execution_count": 5,
   "metadata": {},
   "outputs": [],
   "source": [
    "trainY = np_utils.to_categorical(y_train,10)\n",
    "testY = np_utils.to_categorical(y_test,10)"
   ]
  },
  {
   "cell_type": "code",
   "execution_count": 6,
   "metadata": {},
   "outputs": [],
   "source": [
    "classifier = Sequential()\n",
    "classifier.add(Conv2D(filters=32, kernel_size=(3,3),strides=(1, 1), input_shape=(28,28,1), activation='relu'))\n",
    "classifier.add(MaxPooling2D(pool_size=(2,2)))\n",
    "classifier.add(Conv2D(filters=64, kernel_size=(3,3),strides=(1, 1), activation='relu'))\n",
    "classifier.add(MaxPooling2D(pool_size=(2,2)))\n",
    "classifier.add(Flatten())\n",
    "classifier.add(Dense(units=128,activation='relu'))\n",
    "classifier.add(Dropout(rate=0.2))\n",
    "classifier.add(Dense(units=10, activation='softmax'))"
   ]
  },
  {
   "cell_type": "code",
   "execution_count": 7,
   "metadata": {},
   "outputs": [],
   "source": [
    "classifier.compile(optimizer='adam',loss='categorical_crossentropy',metrics=['accuracy'])"
   ]
  },
  {
   "cell_type": "code",
   "execution_count": 8,
   "metadata": {},
   "outputs": [
    {
     "name": "stdout",
     "output_type": "stream",
     "text": [
      "Model: \"sequential\"\n",
      "_________________________________________________________________\n",
      "Layer (type)                 Output Shape              Param #   \n",
      "=================================================================\n",
      "conv2d (Conv2D)              (None, 26, 26, 32)        320       \n",
      "_________________________________________________________________\n",
      "max_pooling2d (MaxPooling2D) (None, 13, 13, 32)        0         \n",
      "_________________________________________________________________\n",
      "conv2d_1 (Conv2D)            (None, 11, 11, 64)        18496     \n",
      "_________________________________________________________________\n",
      "max_pooling2d_1 (MaxPooling2 (None, 5, 5, 64)          0         \n",
      "_________________________________________________________________\n",
      "flatten (Flatten)            (None, 1600)              0         \n",
      "_________________________________________________________________\n",
      "dense (Dense)                (None, 128)               204928    \n",
      "_________________________________________________________________\n",
      "dropout (Dropout)            (None, 128)               0         \n",
      "_________________________________________________________________\n",
      "dense_1 (Dense)              (None, 10)                1290      \n",
      "=================================================================\n",
      "Total params: 225,034\n",
      "Trainable params: 225,034\n",
      "Non-trainable params: 0\n",
      "_________________________________________________________________\n"
     ]
    }
   ],
   "source": [
    "classifier.summary()"
   ]
  },
  {
   "cell_type": "code",
   "execution_count": 9,
   "metadata": {},
   "outputs": [
    {
     "name": "stdout",
     "output_type": "stream",
     "text": [
      "Epoch 1/20\n",
      "469/469 - 19s - loss: 0.5701 - accuracy: 0.7950 - val_loss: 0.3959 - val_accuracy: 0.8588\n",
      "Epoch 2/20\n",
      "469/469 - 19s - loss: 0.3656 - accuracy: 0.8667 - val_loss: 0.3594 - val_accuracy: 0.8684\n",
      "Epoch 3/20\n",
      "469/469 - 20s - loss: 0.3156 - accuracy: 0.8848 - val_loss: 0.3060 - val_accuracy: 0.8875\n",
      "Epoch 4/20\n",
      "469/469 - 20s - loss: 0.2887 - accuracy: 0.8947 - val_loss: 0.2987 - val_accuracy: 0.8904\n",
      "Epoch 5/20\n",
      "469/469 - 20s - loss: 0.2641 - accuracy: 0.9040 - val_loss: 0.2926 - val_accuracy: 0.8923\n",
      "Epoch 6/20\n",
      "469/469 - 20s - loss: 0.2457 - accuracy: 0.9093 - val_loss: 0.2582 - val_accuracy: 0.9042\n",
      "Epoch 7/20\n",
      "469/469 - 20s - loss: 0.2293 - accuracy: 0.9148 - val_loss: 0.2529 - val_accuracy: 0.9085\n",
      "Epoch 8/20\n",
      "469/469 - 21s - loss: 0.2140 - accuracy: 0.9210 - val_loss: 0.2512 - val_accuracy: 0.9066\n",
      "Epoch 9/20\n",
      "469/469 - 21s - loss: 0.2012 - accuracy: 0.9254 - val_loss: 0.2589 - val_accuracy: 0.9073\n",
      "Epoch 10/20\n",
      "469/469 - 21s - loss: 0.1856 - accuracy: 0.9308 - val_loss: 0.2392 - val_accuracy: 0.9145\n",
      "Epoch 11/20\n",
      "469/469 - 22s - loss: 0.1742 - accuracy: 0.9353 - val_loss: 0.2575 - val_accuracy: 0.9091\n",
      "Epoch 12/20\n",
      "469/469 - 22s - loss: 0.1645 - accuracy: 0.9384 - val_loss: 0.2446 - val_accuracy: 0.9122\n",
      "Epoch 13/20\n",
      "469/469 - 22s - loss: 0.1547 - accuracy: 0.9417 - val_loss: 0.2603 - val_accuracy: 0.9138\n",
      "Epoch 14/20\n",
      "469/469 - 22s - loss: 0.1439 - accuracy: 0.9452 - val_loss: 0.2460 - val_accuracy: 0.9147\n",
      "Epoch 15/20\n",
      "469/469 - 24s - loss: 0.1343 - accuracy: 0.9498 - val_loss: 0.2530 - val_accuracy: 0.9153\n",
      "Epoch 16/20\n",
      "469/469 - 23s - loss: 0.1279 - accuracy: 0.9520 - val_loss: 0.2556 - val_accuracy: 0.9172\n",
      "Epoch 17/20\n",
      "469/469 - 21s - loss: 0.1227 - accuracy: 0.9530 - val_loss: 0.2631 - val_accuracy: 0.9132\n",
      "Epoch 18/20\n",
      "469/469 - 22s - loss: 0.1105 - accuracy: 0.9586 - val_loss: 0.2657 - val_accuracy: 0.9171\n",
      "Epoch 19/20\n",
      "469/469 - 22s - loss: 0.1038 - accuracy: 0.9610 - val_loss: 0.2698 - val_accuracy: 0.9181\n",
      "Epoch 20/20\n",
      "469/469 - 21s - loss: 0.0997 - accuracy: 0.9627 - val_loss: 0.2727 - val_accuracy: 0.9156\n"
     ]
    }
   ],
   "source": [
    "history = classifier.fit(trainX, trainY,\n",
    " batch_size=128, epochs=20,\n",
    " verbose=2,\n",
    " validation_data=(testX, testY))"
   ]
  },
  {
   "attachments": {},
   "cell_type": "markdown",
   "metadata": {},
   "source": [
    "0: T-shirt/top\n",
    "1: Trouser\n",
    "2: Pullover\n",
    "3: Dress\n",
    "4: Coat\n",
    "5: Sandal\n",
    "6: Shirt\n",
    "7: Sneaker\n",
    "8: Bag\n",
    "9: Ankle boot"
   ]
  },
  {
   "cell_type": "code",
   "execution_count": 17,
   "metadata": {},
   "outputs": [
    {
     "data": {
      "text/plain": [
       "array([8], dtype=int64)"
      ]
     },
     "execution_count": 17,
     "metadata": {},
     "output_type": "execute_result"
    }
   ],
   "source": [
    "from keras.preprocessing import image\n",
    "import numpy as np\n",
    "test_img = image.load_img('bag.png', target_size=(28, 28))\n",
    "test_img = image.img_to_array(test_img)\n",
    "test_img = test_img[:,:,1].reshape(1,28,28,1)\n",
    "test_img = test_img/255\n",
    "# classifier.predict_classes(test_img)\n",
    "# (classifier.predict(test_img) > 0.5).astype(\"int32\")\n",
    "np.argmax(classifier.predict(test_img), axis=-1)"
   ]
  }
 ],
 "metadata": {
  "kernelspec": {
   "display_name": "Python 3",
   "language": "python",
   "name": "python3"
  },
  "language_info": {
   "codemirror_mode": {
    "name": "ipython",
    "version": 3
   },
   "file_extension": ".py",
   "mimetype": "text/x-python",
   "name": "python",
   "nbconvert_exporter": "python",
   "pygments_lexer": "ipython3",
   "version": "3.9.6"
  },
  "orig_nbformat": 4,
  "vscode": {
   "interpreter": {
    "hash": "9f1ed5a6caa63b933f18b2de58eb1658054e234b84bf4970be74ffb1abce9f96"
   }
  }
 },
 "nbformat": 4,
 "nbformat_minor": 2
}
